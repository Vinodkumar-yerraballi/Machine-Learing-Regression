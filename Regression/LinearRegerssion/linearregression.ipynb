{
 "cells": [
  {
   "cell_type": "code",
   "execution_count": 1,
   "metadata": {
    "execution": {
     "iopub.execute_input": "2023-08-28T15:38:45.424677Z",
     "iopub.status.busy": "2023-08-28T15:38:45.423829Z",
     "iopub.status.idle": "2023-08-28T15:38:46.154550Z",
     "shell.execute_reply": "2023-08-28T15:38:46.153263Z",
     "shell.execute_reply.started": "2023-08-28T15:38:45.424612Z"
    }
   },
   "outputs": [
    {
     "name": "stderr",
     "output_type": "stream",
     "text": [
      "/opt/conda/lib/python3.10/site-packages/scipy/__init__.py:146: UserWarning: A NumPy version >=1.16.5 and <1.23.0 is required for this version of SciPy (detected version 1.23.5\n",
      "  warnings.warn(f\"A NumPy version >={np_minversion} and <{np_maxversion}\"\n"
     ]
    }
   ],
   "source": [
    "# Import the libraries\n",
    "import pandas as pd\n",
    "import numpy as np\n",
    "import matplotlib.pyplot as plt\n",
    "import seaborn as sns\n",
    "import warnings\n",
    "warnings.filterwarnings('ignore')"
   ]
  },
  {
   "cell_type": "code",
   "execution_count": 2,
   "metadata": {
    "execution": {
     "iopub.execute_input": "2023-08-28T15:38:46.157593Z",
     "iopub.status.busy": "2023-08-28T15:38:46.156194Z",
     "iopub.status.idle": "2023-08-28T15:38:46.191301Z",
     "shell.execute_reply": "2023-08-28T15:38:46.189866Z",
     "shell.execute_reply.started": "2023-08-28T15:38:46.157538Z"
    }
   },
   "outputs": [
    {
     "data": {
      "text/html": [
       "<div>\n",
       "<style scoped>\n",
       "    .dataframe tbody tr th:only-of-type {\n",
       "        vertical-align: middle;\n",
       "    }\n",
       "\n",
       "    .dataframe tbody tr th {\n",
       "        vertical-align: top;\n",
       "    }\n",
       "\n",
       "    .dataframe thead th {\n",
       "        text-align: right;\n",
       "    }\n",
       "</style>\n",
       "<table border=\"1\" class=\"dataframe\">\n",
       "  <thead>\n",
       "    <tr style=\"text-align: right;\">\n",
       "      <th></th>\n",
       "      <th>Unnamed: 0</th>\n",
       "      <th>YearsExperience</th>\n",
       "      <th>Salary</th>\n",
       "    </tr>\n",
       "  </thead>\n",
       "  <tbody>\n",
       "    <tr>\n",
       "      <th>0</th>\n",
       "      <td>0</td>\n",
       "      <td>1.2</td>\n",
       "      <td>39344.0</td>\n",
       "    </tr>\n",
       "    <tr>\n",
       "      <th>1</th>\n",
       "      <td>1</td>\n",
       "      <td>1.4</td>\n",
       "      <td>46206.0</td>\n",
       "    </tr>\n",
       "    <tr>\n",
       "      <th>2</th>\n",
       "      <td>2</td>\n",
       "      <td>1.6</td>\n",
       "      <td>37732.0</td>\n",
       "    </tr>\n",
       "    <tr>\n",
       "      <th>3</th>\n",
       "      <td>3</td>\n",
       "      <td>2.1</td>\n",
       "      <td>43526.0</td>\n",
       "    </tr>\n",
       "    <tr>\n",
       "      <th>4</th>\n",
       "      <td>4</td>\n",
       "      <td>2.3</td>\n",
       "      <td>39892.0</td>\n",
       "    </tr>\n",
       "  </tbody>\n",
       "</table>\n",
       "</div>"
      ],
      "text/plain": [
       "   Unnamed: 0  YearsExperience   Salary\n",
       "0           0              1.2  39344.0\n",
       "1           1              1.4  46206.0\n",
       "2           2              1.6  37732.0\n",
       "3           3              2.1  43526.0\n",
       "4           4              2.3  39892.0"
      ]
     },
     "execution_count": 2,
     "metadata": {},
     "output_type": "execute_result"
    }
   ],
   "source": [
    "# Load the data set using the read function\n",
    "salary=pd.read_csv('/kaggle/input/salary-dataset-simple-linear-regression/Salary_dataset.csv')\n",
    "salary.head()"
   ]
  },
  {
   "cell_type": "code",
   "execution_count": 3,
   "metadata": {
    "execution": {
     "iopub.execute_input": "2023-08-28T15:38:46.194586Z",
     "iopub.status.busy": "2023-08-28T15:38:46.193574Z",
     "iopub.status.idle": "2023-08-28T15:38:46.206329Z",
     "shell.execute_reply": "2023-08-28T15:38:46.204779Z",
     "shell.execute_reply.started": "2023-08-28T15:38:46.194523Z"
    }
   },
   "outputs": [
    {
     "data": {
      "text/plain": [
       "Unnamed: 0         0\n",
       "YearsExperience    0\n",
       "Salary             0\n",
       "dtype: int64"
      ]
     },
     "execution_count": 3,
     "metadata": {},
     "output_type": "execute_result"
    }
   ],
   "source": [
    "# Checking the null values\n",
    "salary.isna().sum()"
   ]
  },
  {
   "cell_type": "code",
   "execution_count": 4,
   "metadata": {
    "execution": {
     "iopub.execute_input": "2023-08-28T15:38:46.211502Z",
     "iopub.status.busy": "2023-08-28T15:38:46.210828Z",
     "iopub.status.idle": "2023-08-28T15:38:46.228912Z",
     "shell.execute_reply": "2023-08-28T15:38:46.227801Z",
     "shell.execute_reply.started": "2023-08-28T15:38:46.211445Z"
    }
   },
   "outputs": [
    {
     "data": {
      "text/html": [
       "<div>\n",
       "<style scoped>\n",
       "    .dataframe tbody tr th:only-of-type {\n",
       "        vertical-align: middle;\n",
       "    }\n",
       "\n",
       "    .dataframe tbody tr th {\n",
       "        vertical-align: top;\n",
       "    }\n",
       "\n",
       "    .dataframe thead th {\n",
       "        text-align: right;\n",
       "    }\n",
       "</style>\n",
       "<table border=\"1\" class=\"dataframe\">\n",
       "  <thead>\n",
       "    <tr style=\"text-align: right;\">\n",
       "      <th></th>\n",
       "      <th>YearsExperience</th>\n",
       "      <th>Salary</th>\n",
       "    </tr>\n",
       "  </thead>\n",
       "  <tbody>\n",
       "    <tr>\n",
       "      <th>0</th>\n",
       "      <td>1.2</td>\n",
       "      <td>39344.0</td>\n",
       "    </tr>\n",
       "    <tr>\n",
       "      <th>1</th>\n",
       "      <td>1.4</td>\n",
       "      <td>46206.0</td>\n",
       "    </tr>\n",
       "    <tr>\n",
       "      <th>2</th>\n",
       "      <td>1.6</td>\n",
       "      <td>37732.0</td>\n",
       "    </tr>\n",
       "    <tr>\n",
       "      <th>3</th>\n",
       "      <td>2.1</td>\n",
       "      <td>43526.0</td>\n",
       "    </tr>\n",
       "    <tr>\n",
       "      <th>4</th>\n",
       "      <td>2.3</td>\n",
       "      <td>39892.0</td>\n",
       "    </tr>\n",
       "  </tbody>\n",
       "</table>\n",
       "</div>"
      ],
      "text/plain": [
       "   YearsExperience   Salary\n",
       "0              1.2  39344.0\n",
       "1              1.4  46206.0\n",
       "2              1.6  37732.0\n",
       "3              2.1  43526.0\n",
       "4              2.3  39892.0"
      ]
     },
     "execution_count": 4,
     "metadata": {},
     "output_type": "execute_result"
    }
   ],
   "source": [
    "# Let's  drop the unwanted columns\n",
    "salary=salary.drop('Unnamed: 0',axis=1)\n",
    "salary.head()"
   ]
  },
  {
   "cell_type": "code",
   "execution_count": 5,
   "metadata": {
    "execution": {
     "iopub.execute_input": "2023-08-28T15:38:46.231976Z",
     "iopub.status.busy": "2023-08-28T15:38:46.230659Z",
     "iopub.status.idle": "2023-08-28T15:38:46.242997Z",
     "shell.execute_reply": "2023-08-28T15:38:46.241232Z",
     "shell.execute_reply.started": "2023-08-28T15:38:46.231916Z"
    }
   },
   "outputs": [
    {
     "data": {
      "text/plain": [
       "Index(['YearsExperience', 'Salary'], dtype='object')"
      ]
     },
     "execution_count": 5,
     "metadata": {},
     "output_type": "execute_result"
    }
   ],
   "source": [
    "salary.columns"
   ]
  },
  {
   "cell_type": "markdown",
   "metadata": {},
   "source": [
    "# Linear Regression Model\n",
    "Absolutely, let's discuss the linear regression model in the context of predicting salary based on years of experience.\n",
    "\n",
    "In this scenario:\n",
    "- \\( y \\) represents the salary (dependent variable).\n",
    "- \\( m \\) is the slope of the line, which signifies how much the salary changes with a unit change in years of experience.\n",
    "- \\( c \\) is the y-axis intercept of the regression line, indicating the starting salary when years of experience (\\( x \\)) is 0.\n",
    "- \\( x \\) corresponds to years of experience (independent variable).\n",
    "\n",
    "The formula for the linear regression model in this context is:\n",
    "\\[ y = mx + c \\]\n",
    "\n",
    "So, if we have a specific value for years of experience (let's say \\( x = 5.5 \\)), we can plug it into the formula to predict the corresponding salary (\\( y \\)).\n",
    "\n",
    "For example, if \\( x = 5.5 \\):\n",
    "\\[ y = m \\times 5.5 + c \\]\n",
    "\n",
    "Please note that \\( m \\) and \\( c \\) would be determined by fitting the linear regression model to the actual data. Once the model is trained, it can be used to make predictions like the one above.\n",
    "\n",
    "If you have a dataset with actual years of experience and corresponding salaries, you can use libraries like `scikit-learn` to train a linear regression model and then use the model to make predictions for new values of years of experience."
   ]
  },
  {
   "cell_type": "markdown",
   "metadata": {},
   "source": [
    "![LinearRegression](https://editor.analyticsvidhya.com/uploads/375512.jpg)"
   ]
  },
  {
   "cell_type": "code",
   "execution_count": 6,
   "metadata": {
    "execution": {
     "iopub.execute_input": "2023-08-28T15:38:46.246230Z",
     "iopub.status.busy": "2023-08-28T15:38:46.244980Z",
     "iopub.status.idle": "2023-08-28T15:38:46.254128Z",
     "shell.execute_reply": "2023-08-28T15:38:46.252242Z",
     "shell.execute_reply.started": "2023-08-28T15:38:46.246179Z"
    }
   },
   "outputs": [],
   "source": [
    "# Split the data into dependent and independent variable\n",
    "X=salary['YearsExperience']\n",
    "y=salary['Salary']"
   ]
  },
  {
   "cell_type": "code",
   "execution_count": 7,
   "metadata": {
    "execution": {
     "iopub.execute_input": "2023-08-28T15:38:46.256503Z",
     "iopub.status.busy": "2023-08-28T15:38:46.256037Z",
     "iopub.status.idle": "2023-08-28T15:38:46.381467Z",
     "shell.execute_reply": "2023-08-28T15:38:46.379894Z",
     "shell.execute_reply.started": "2023-08-28T15:38:46.256462Z"
    }
   },
   "outputs": [],
   "source": [
    "from sklearn.linear_model import LinearRegression\n",
    "from sklearn.metrics import r2_score,mean_squared_error"
   ]
  },
  {
   "cell_type": "code",
   "execution_count": 8,
   "metadata": {
    "execution": {
     "iopub.execute_input": "2023-08-28T15:38:46.384041Z",
     "iopub.status.busy": "2023-08-28T15:38:46.383573Z",
     "iopub.status.idle": "2023-08-28T15:38:46.399871Z",
     "shell.execute_reply": "2023-08-28T15:38:46.398289Z",
     "shell.execute_reply.started": "2023-08-28T15:38:46.383999Z"
    }
   },
   "outputs": [
    {
     "data": {
      "text/html": [
       "<style>#sk-container-id-1 {color: black;background-color: white;}#sk-container-id-1 pre{padding: 0;}#sk-container-id-1 div.sk-toggleable {background-color: white;}#sk-container-id-1 label.sk-toggleable__label {cursor: pointer;display: block;width: 100%;margin-bottom: 0;padding: 0.3em;box-sizing: border-box;text-align: center;}#sk-container-id-1 label.sk-toggleable__label-arrow:before {content: \"▸\";float: left;margin-right: 0.25em;color: #696969;}#sk-container-id-1 label.sk-toggleable__label-arrow:hover:before {color: black;}#sk-container-id-1 div.sk-estimator:hover label.sk-toggleable__label-arrow:before {color: black;}#sk-container-id-1 div.sk-toggleable__content {max-height: 0;max-width: 0;overflow: hidden;text-align: left;background-color: #f0f8ff;}#sk-container-id-1 div.sk-toggleable__content pre {margin: 0.2em;color: black;border-radius: 0.25em;background-color: #f0f8ff;}#sk-container-id-1 input.sk-toggleable__control:checked~div.sk-toggleable__content {max-height: 200px;max-width: 100%;overflow: auto;}#sk-container-id-1 input.sk-toggleable__control:checked~label.sk-toggleable__label-arrow:before {content: \"▾\";}#sk-container-id-1 div.sk-estimator input.sk-toggleable__control:checked~label.sk-toggleable__label {background-color: #d4ebff;}#sk-container-id-1 div.sk-label input.sk-toggleable__control:checked~label.sk-toggleable__label {background-color: #d4ebff;}#sk-container-id-1 input.sk-hidden--visually {border: 0;clip: rect(1px 1px 1px 1px);clip: rect(1px, 1px, 1px, 1px);height: 1px;margin: -1px;overflow: hidden;padding: 0;position: absolute;width: 1px;}#sk-container-id-1 div.sk-estimator {font-family: monospace;background-color: #f0f8ff;border: 1px dotted black;border-radius: 0.25em;box-sizing: border-box;margin-bottom: 0.5em;}#sk-container-id-1 div.sk-estimator:hover {background-color: #d4ebff;}#sk-container-id-1 div.sk-parallel-item::after {content: \"\";width: 100%;border-bottom: 1px solid gray;flex-grow: 1;}#sk-container-id-1 div.sk-label:hover label.sk-toggleable__label {background-color: #d4ebff;}#sk-container-id-1 div.sk-serial::before {content: \"\";position: absolute;border-left: 1px solid gray;box-sizing: border-box;top: 0;bottom: 0;left: 50%;z-index: 0;}#sk-container-id-1 div.sk-serial {display: flex;flex-direction: column;align-items: center;background-color: white;padding-right: 0.2em;padding-left: 0.2em;position: relative;}#sk-container-id-1 div.sk-item {position: relative;z-index: 1;}#sk-container-id-1 div.sk-parallel {display: flex;align-items: stretch;justify-content: center;background-color: white;position: relative;}#sk-container-id-1 div.sk-item::before, #sk-container-id-1 div.sk-parallel-item::before {content: \"\";position: absolute;border-left: 1px solid gray;box-sizing: border-box;top: 0;bottom: 0;left: 50%;z-index: -1;}#sk-container-id-1 div.sk-parallel-item {display: flex;flex-direction: column;z-index: 1;position: relative;background-color: white;}#sk-container-id-1 div.sk-parallel-item:first-child::after {align-self: flex-end;width: 50%;}#sk-container-id-1 div.sk-parallel-item:last-child::after {align-self: flex-start;width: 50%;}#sk-container-id-1 div.sk-parallel-item:only-child::after {width: 0;}#sk-container-id-1 div.sk-dashed-wrapped {border: 1px dashed gray;margin: 0 0.4em 0.5em 0.4em;box-sizing: border-box;padding-bottom: 0.4em;background-color: white;}#sk-container-id-1 div.sk-label label {font-family: monospace;font-weight: bold;display: inline-block;line-height: 1.2em;}#sk-container-id-1 div.sk-label-container {text-align: center;}#sk-container-id-1 div.sk-container {/* jupyter's `normalize.less` sets `[hidden] { display: none; }` but bootstrap.min.css set `[hidden] { display: none !important; }` so we also need the `!important` here to be able to override the default hidden behavior on the sphinx rendered scikit-learn.org. See: https://github.com/scikit-learn/scikit-learn/issues/21755 */display: inline-block !important;position: relative;}#sk-container-id-1 div.sk-text-repr-fallback {display: none;}</style><div id=\"sk-container-id-1\" class=\"sk-top-container\"><div class=\"sk-text-repr-fallback\"><pre>LinearRegression()</pre><b>In a Jupyter environment, please rerun this cell to show the HTML representation or trust the notebook. <br />On GitHub, the HTML representation is unable to render, please try loading this page with nbviewer.org.</b></div><div class=\"sk-container\" hidden><div class=\"sk-item\"><div class=\"sk-estimator sk-toggleable\"><input class=\"sk-toggleable__control sk-hidden--visually\" id=\"sk-estimator-id-1\" type=\"checkbox\" checked><label for=\"sk-estimator-id-1\" class=\"sk-toggleable__label sk-toggleable__label-arrow\">LinearRegression</label><div class=\"sk-toggleable__content\"><pre>LinearRegression()</pre></div></div></div></div></div>"
      ],
      "text/plain": [
       "LinearRegression()"
      ]
     },
     "execution_count": 8,
     "metadata": {},
     "output_type": "execute_result"
    }
   ],
   "source": [
    "# Let's install the Linearregression model\n",
    "linear_model=LinearRegression()\n",
    "# fit the model with linear model \n",
    "linear_model.fit(X.array.reshape(-1,1),y)\n"
   ]
  },
  {
   "cell_type": "code",
   "execution_count": 9,
   "metadata": {
    "execution": {
     "iopub.execute_input": "2023-08-28T15:38:46.402549Z",
     "iopub.status.busy": "2023-08-28T15:38:46.402030Z",
     "iopub.status.idle": "2023-08-28T15:38:46.415065Z",
     "shell.execute_reply": "2023-08-28T15:38:46.413592Z",
     "shell.execute_reply.started": "2023-08-28T15:38:46.402507Z"
    }
   },
   "outputs": [
    {
     "data": {
      "text/plain": [
       "array([ 36188.15875227,  38078.15121656,  39968.14368085,  44693.12484158,\n",
       "        46583.11730587,  53198.09093089,  54143.08716303,  56033.07962732,\n",
       "        56033.07962732,  60758.06078805,  62648.05325234,  63593.04948449,\n",
       "        63593.04948449,  64538.04571663,  68318.03064522,  72098.0155738 ,\n",
       "        73988.00803809,  75878.00050238,  81547.97789525,  82492.9741274 ,\n",
       "        90052.94398456,  92887.932681  , 100447.90253816, 103282.8912346 ,\n",
       "       108007.87239533, 110842.86109176, 115567.84225249, 116512.83848464,\n",
       "       123127.81210966, 125017.80457395])"
      ]
     },
     "execution_count": 9,
     "metadata": {},
     "output_type": "execute_result"
    }
   ],
   "source": [
    "# Predict the values with test data \n",
    "y_pred=linear_model.predict(X.array.reshape(-1,1))\n",
    "y_pred"
   ]
  },
  {
   "cell_type": "code",
   "execution_count": 10,
   "metadata": {
    "execution": {
     "iopub.execute_input": "2023-08-28T15:38:46.420468Z",
     "iopub.status.busy": "2023-08-28T15:38:46.419456Z",
     "iopub.status.idle": "2023-08-28T15:38:46.433009Z",
     "shell.execute_reply": "2023-08-28T15:38:46.431738Z",
     "shell.execute_reply.started": "2023-08-28T15:38:46.420403Z"
    }
   },
   "outputs": [
    {
     "data": {
      "text/plain": [
       "9449.962321455077"
      ]
     },
     "execution_count": 10,
     "metadata": {},
     "output_type": "execute_result"
    }
   ],
   "source": [
    "# Checking the coefiencnt\n",
    "coeff=linear_model.coef_[0]\n",
    "coeff"
   ]
  },
  {
   "cell_type": "code",
   "execution_count": 11,
   "metadata": {
    "execution": {
     "iopub.execute_input": "2023-08-28T15:38:46.434805Z",
     "iopub.status.busy": "2023-08-28T15:38:46.434347Z",
     "iopub.status.idle": "2023-08-28T15:38:46.452781Z",
     "shell.execute_reply": "2023-08-28T15:38:46.451215Z",
     "shell.execute_reply.started": "2023-08-28T15:38:46.434766Z"
    }
   },
   "outputs": [
    {
     "data": {
      "text/plain": [
       "24848.203966523193"
      ]
     },
     "execution_count": 11,
     "metadata": {},
     "output_type": "execute_result"
    }
   ],
   "source": [
    "# intercept of the model\n",
    "intercept=linear_model.intercept_\n",
    "intercept"
   ]
  },
  {
   "cell_type": "code",
   "execution_count": 12,
   "metadata": {
    "execution": {
     "iopub.execute_input": "2023-08-28T15:38:46.454956Z",
     "iopub.status.busy": "2023-08-28T15:38:46.454385Z",
     "iopub.status.idle": "2023-08-28T15:38:46.466232Z",
     "shell.execute_reply": "2023-08-28T15:38:46.464541Z",
     "shell.execute_reply.started": "2023-08-28T15:38:46.454912Z"
    }
   },
   "outputs": [
    {
     "name": "stdout",
     "output_type": "stream",
     "text": [
      "Mean_squared_error 31270951.722280953\n",
      "R2_score  0.9569566641435086\n"
     ]
    }
   ],
   "source": [
    "# Checking the model score\n",
    "print('Mean_squared_error',format(mean_squared_error(y,y_pred)))\n",
    "print('R2_score ',format(r2_score(y,y_pred)))"
   ]
  },
  {
   "cell_type": "code",
   "execution_count": 13,
   "metadata": {
    "execution": {
     "iopub.execute_input": "2023-08-28T15:38:46.471327Z",
     "iopub.status.busy": "2023-08-28T15:38:46.470785Z",
     "iopub.status.idle": "2023-08-28T15:38:46.794073Z",
     "shell.execute_reply": "2023-08-28T15:38:46.792564Z",
     "shell.execute_reply.started": "2023-08-28T15:38:46.471285Z"
    }
   },
   "outputs": [
    {
     "data": {
      "image/png": "[encoded data removed]",
      "text/plain": [
       "<Figure size 640x480 with 1 Axes>"
      ]
     },
     "metadata": {},
     "output_type": "display_data"
    }
   ],
   "source": [
    "# Let's Create a scatter plot for the actual and preidict values\n",
    "plt.scatter(X, y, label='Original Data')\n",
    "plt.plot(X, y_pred, color='red', label='Regression Line')\n",
    "plt.xlabel('Actual Values')\n",
    "plt.ylabel('Predicted Values')\n",
    "plt.title('Actual vs. Predicted Values')\n",
    "plt.show()\n"
   ]
  },
  {
   "cell_type": "code",
   "execution_count": 14,
   "metadata": {
    "execution": {
     "iopub.execute_input": "2023-08-28T15:38:46.797409Z",
     "iopub.status.busy": "2023-08-28T15:38:46.796073Z",
     "iopub.status.idle": "2023-08-28T15:38:46.807400Z",
     "shell.execute_reply": "2023-08-28T15:38:46.805629Z",
     "shell.execute_reply.started": "2023-08-28T15:38:46.797356Z"
    }
   },
   "outputs": [
    {
     "data": {
      "text/plain": [
       "76822.99576800293"
      ]
     },
     "execution_count": 14,
     "metadata": {},
     "output_type": "execute_result"
    }
   ],
   "source": [
    "# How to calculate the linearregression model\n",
    "# formula=y=m*x+c\n",
    "#intercept values\n",
    "m=9449.962321455077\n",
    "#year of expreice\n",
    "x=5.5\n",
    "# slop of the values\n",
    "c=24848.203\n",
    "predicted_values=m*x+c\n",
    "predicted_values"
   ]
  },
  {
   "cell_type": "markdown",
   "metadata": {},
   "source": []
  }
 ],
 "metadata": {
  "kernelspec": {
   "display_name": "Python 3 (ipykernel)",
   "language": "python",
   "name": "python3"
  },
  "language_info": {
   "codemirror_mode": {
    "name": "ipython",
    "version": 3
   },
   "file_extension": ".py",
   "mimetype": "text/x-python",
   "name": "python",
   "nbconvert_exporter": "python",
   "pygments_lexer": "ipython3",
   "version": "3.11.3"
  }
 },
 "nbformat": 4,
 "nbformat_minor": 4
}
